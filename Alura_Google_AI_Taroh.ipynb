{
  "nbformat": 4,
  "nbformat_minor": 0,
  "metadata": {
    "colab": {
      "provenance": [],
      "authorship_tag": "ABX9TyOx6Beaf0R0RBEYgRHmBNaI",
      "include_colab_link": true
    },
    "kernelspec": {
      "name": "python3",
      "display_name": "Python 3"
    },
    "language_info": {
      "name": "python"
    }
  },
  "cells": [
    {
      "cell_type": "markdown",
      "metadata": {
        "id": "view-in-github",
        "colab_type": "text"
      },
      "source": [
        "<a href=\"https://colab.research.google.com/github/juliowatanabe/Alura_Google_AI/blob/main/Alura_Google_AI_Taroh.ipynb\" target=\"_parent\"><img src=\"https://colab.research.google.com/assets/colab-badge.svg\" alt=\"Open In Colab\"/></a>"
      ]
    },
    {
      "cell_type": "markdown",
      "source": [
        "Este programa ..."
      ],
      "metadata": {
        "id": "Y0sDPu4h4MIn"
      }
    },
    {
      "cell_type": "code",
      "execution_count": 144,
      "metadata": {
        "id": "Whz5Sgey3sOm"
      },
      "outputs": [],
      "source": [
        "#Instalando o SDK do Google\n",
        "!pip install -q -U google-generativeai"
      ]
    },
    {
      "cell_type": "code",
      "source": [
        "# Configurações iniciais\n",
        "import google.generativeai as genai\n",
        "import numpy as np\n",
        "import pandas as pd\n",
        "import random\n",
        "# Importa o módulo userdata do google.colab para acessar o meu API_Key armazenado no Secrets\n",
        "from google.colab import userdata\n",
        "\n",
        "api_key = userdata.get(\"JKW_API_Key\")\n",
        "\n",
        "GOOGLE_API_KEY= api_key\n",
        "genai.configure(api_key=GOOGLE_API_KEY)"
      ],
      "metadata": {
        "id": "K7C-PNTe4tNk"
      },
      "execution_count": 145,
      "outputs": []
    },
    {
      "cell_type": "code",
      "source": [
        "# Listando os modelos disponíveis\n",
        "for m in genai.list_models():\n",
        "  if 'generateContent' in m.supported_generation_methods:\n",
        "    print(m.name)"
      ],
      "metadata": {
        "colab": {
          "base_uri": "https://localhost:8080/",
          "height": 138
        },
        "id": "QCoqcYuf8g24",
        "outputId": "6acd3310-6e0c-42cb-8615-0e3061834ce6"
      },
      "execution_count": 146,
      "outputs": [
        {
          "output_type": "stream",
          "name": "stdout",
          "text": [
            "models/gemini-1.0-pro\n",
            "models/gemini-1.0-pro-001\n",
            "models/gemini-1.0-pro-latest\n",
            "models/gemini-1.0-pro-vision-latest\n",
            "models/gemini-1.5-pro-latest\n",
            "models/gemini-pro\n",
            "models/gemini-pro-vision\n"
          ]
        }
      ]
    },
    {
      "cell_type": "code",
      "source": [
        "generation_config = {\n",
        "  #\"candidate_count\": 1,\n",
        "  \"temperature\": 0.5,\n",
        "}"
      ],
      "metadata": {
        "id": "L-UaKKzu9oui"
      },
      "execution_count": 147,
      "outputs": []
    },
    {
      "cell_type": "markdown",
      "source": [
        "**candidate_count: 1:**\n",
        "\n",
        "Este par chave-valor define a opção candidate_count como 1. Isso significa que o modelo irá gerar apenas uma resposta candidata para o prompt ou consulta fornecida.\n",
        "\n",
        "**temperature: 0.5:**\n",
        "\n",
        "Este par chave-valor define a opção temperature como 0.5. A temperatura é um parâmetro que controla a aleatoriedade ou criatividade do texto gerado. Veja como ela afeta o resultado:\n",
        "\n",
        "Temperatura baixa (ex.: 0.0): O modelo priorizará as respostas mais prováveis e seguras, podendo gerar saídas menos criativas, mas previsíveis.\n",
        "Temperatura alta (ex.: 1.0): O modelo explorará uma gama maior de possibilidades, podendo gerar saídas mais criativas ou surpreendentes, mas também aumentando o risco de respostas sem sentido.\n",
        "Uma temperatura de 0.5 encontra um equilíbrio entre esses dois extremos, visando uma resposta um tanto criativa, porém coerente."
      ],
      "metadata": {
        "id": "ch8tRbsN-4EI"
      }
    },
    {
      "cell_type": "code",
      "source": [
        "safety_settings={\n",
        "    'HATE': 'BLOCK_NONE',\n",
        "    'HARASSMENT': 'BLOCK_NONE',\n",
        "    'SEXUAL' : 'BLOCK_NONE',\n",
        "    'DANGEROUS' : 'BLOCK_NONE'\n",
        "    }"
      ],
      "metadata": {
        "id": "qqWQZgAW-PjV"
      },
      "execution_count": 148,
      "outputs": []
    },
    {
      "cell_type": "code",
      "source": [
        "model = genai.GenerativeModel(model_name='gemini-1.5-pro-latest',\n",
        "                                  generation_config=generation_config,\n",
        "                                  safety_settings=safety_settings,)"
      ],
      "metadata": {
        "id": "9XByz6__AVOK"
      },
      "execution_count": 149,
      "outputs": []
    },
    {
      "cell_type": "code",
      "source": [
        "carta = random.randint(1, 21)\n",
        "response = model.generate_content(f\"qual é a carta {carta} do Taroh.\")\n",
        "response.text"
      ],
      "metadata": {
        "colab": {
          "base_uri": "https://localhost:8080/",
          "height": 36
        },
        "id": "BnlG8unyCsxm",
        "outputId": "f3249270-cab5-4dc4-aaaa-4b667bc175fa"
      },
      "execution_count": 150,
      "outputs": [
        {
          "output_type": "execute_result",
          "data": {
            "text/plain": [
              "'A carta 20 do Tarô é **O Julgamento**. \\n'"
            ],
            "application/vnd.google.colaboratory.intrinsic+json": {
              "type": "string"
            }
          },
          "metadata": {},
          "execution_count": 150
        }
      ]
    },
    {
      "cell_type": "code",
      "source": [
        "significado = model.generate_content(f'Consulte e resuma o significado da Carta do Taroh {response}')"
      ],
      "metadata": {
        "id": "SjMBVcCKDung"
      },
      "execution_count": 151,
      "outputs": []
    },
    {
      "cell_type": "code",
      "source": [
        "significado.text"
      ],
      "metadata": {
        "colab": {
          "base_uri": "https://localhost:8080/",
          "height": 36
        },
        "id": "63MP8ya2EdP7",
        "outputId": "0966ce12-f8d2-4ea3-e07f-094c72dc4840"
      },
      "execution_count": 152,
      "outputs": [
        {
          "output_type": "execute_result",
          "data": {
            "text/plain": [
              "'A carta 20 do Tarô é **O Julgamento**. \\n'"
            ],
            "application/vnd.google.colaboratory.intrinsic+json": {
              "type": "string"
            }
          },
          "metadata": {},
          "execution_count": 152
        }
      ]
    },
    {
      "cell_type": "code",
      "source": [
        "for m in genai.list_models():\n",
        "  if 'embedContent' in m.supported_generation_methods:\n",
        "    print(m.name)"
      ],
      "metadata": {
        "colab": {
          "base_uri": "https://localhost:8080/",
          "height": 52
        },
        "id": "pLuCpx_4F_0b",
        "outputId": "1e0611e8-9441-4cbd-9782-cb16a0cecb29"
      },
      "execution_count": 153,
      "outputs": [
        {
          "output_type": "stream",
          "name": "stdout",
          "text": [
            "models/embedding-001\n",
            "models/text-embedding-004\n"
          ]
        }
      ]
    },
    {
      "cell_type": "code",
      "source": [
        "title = \"Taroh\"\n",
        "sample_text = significado.text\n",
        "\n",
        "embeddings = genai.embed_content(model=\"models/embedding-001\",\n",
        "                                 content=sample_text,\n",
        "                                 title=title,\n",
        "                                 task_type=\"RETRIEVAL_DOCUMENT\")\n",
        "\n",
        "print(embeddings)"
      ],
      "metadata": {
        "colab": {
          "base_uri": "https://localhost:8080/",
          "height": 54
        },
        "id": "WaWM4bHQGVdP",
        "outputId": "10b765ac-930f-4f90-e351-27f8bb53b15a"
      },
      "execution_count": 154,
      "outputs": [
        {
          "output_type": "stream",
          "name": "stdout",
          "text": [
            "{'embedding': [-0.0034917067, -0.057399236, -0.053332813, -0.00040706832, 0.041486327, -0.021897387, -0.014916752, 0.023526888, 0.00068992365, 0.08753618, -0.051769044, -0.012792771, -0.08497143, -0.011905183, 0.0247106, 0.012203619, -0.043571014, 0.017867351, 0.0020216086, -0.035433955, -0.0107447775, 0.0013005731, -0.06740404, 0.041429795, 0.020774929, -0.015000385, 0.00022580803, -0.0069702053, 0.006441518, 0.01239703, -0.03531922, -5.151205e-06, -0.06575413, 0.02518062, 0.058118794, -0.028383678, 0.02808756, 0.04781848, -0.01265035, 0.018016217, 0.012825008, 0.031286325, -0.017247763, 0.053464, 0.0006651578, -0.04146593, -0.009333454, 0.0030487988, 0.0029057146, -0.041597974, -0.010116136, 0.004069406, 0.060002804, -0.009207841, -0.009773253, -0.044554133, 0.024496242, 0.01343076, -0.048653957, 0.011850864, 0.00498158, 0.040801987, 0.022270095, 0.06792771, -0.041229192, 0.0068504633, -0.007572923, -0.0034949144, 0.038256846, 0.02187193, -0.006475939, -0.03064498, 0.01419819, 0.01869325, -0.042781394, -0.12619758, 0.012318715, 0.06794529, -0.0014055031, -0.036052585, 0.026756711, -0.059137374, -0.009585518, -0.017743133, -0.035092264, 0.07012493, -0.045420904, -0.03201182, 0.0041421903, 0.022983251, -0.03357725, 0.025192918, 0.024800139, -0.0013757653, 0.0017003124, 0.051884986, -0.026616903, -0.02535997, 0.017433356, 0.016797097, 0.0012191891, -0.015291591, -0.0066903606, -0.023307988, 0.018032968, 0.0038178284, -0.03479645, 0.025403893, 0.0137250265, 0.02319239, -0.055136867, 0.013766919, 0.007623207, -0.035861824, 0.030650347, -0.053895682, 0.037101723, 0.06720508, 0.00020965216, 0.032290965, 0.021048287, -0.02750312, 0.027385281, -0.013129066, 0.022914171, -0.006047384, -0.022322988, 0.02194679, -0.025287408, 0.03072773, 0.016361676, -0.037672564, 0.010470649, 0.039675806, 0.016114343, 0.07812942, -0.0017734641, -0.010918344, 0.0011639596, -0.044516303, 0.023165654, 0.02083081, -0.0020637617, 0.028970007, 0.01828189, 0.014417525, -0.029843673, -0.013963938, 0.0861697, -0.0033779074, 0.0064989887, -0.009465902, -0.04818088, -0.018253995, 0.09367201, 0.012534755, 0.004414015, 0.0050541516, 0.0192463, -0.007075267, 0.045057904, 0.015418094, -0.03033029, 0.020111173, -0.022486353, -0.06555075, -0.04073137, 0.015067165, -0.0028655024, 0.025953988, 0.030465353, -0.0047237156, -0.047140766, -0.060877115, 0.01180617, -0.07471061, -0.010993982, -0.015494085, -0.028264126, 0.00072416844, 0.0101112025, 0.0211598, 0.038525496, 0.011589527, 0.019278076, -0.06179041, 0.0802362, 0.006344325, -0.05065431, 0.0020286243, 0.009258794, 0.010816673, -0.011076681, -0.072018474, -0.046316642, 0.03936627, 0.0031645307, -0.009364661, -0.00456046, -0.091531105, -0.0031227337, 0.07476454, -0.027115636, -0.061914865, -0.0040586144, -0.03338662, 0.08505815, -0.034319054, -0.024519078, 0.06288779, -0.03789644, 0.02085524, -0.031183712, -0.009573247, 0.08247812, -0.029164443, -0.0058799633, 0.049895976, 0.023425212, -0.018769935, -0.019466568, 0.013592322, -0.033832442, -0.0194418, -0.029327342, 0.0067280876, -0.021151217, 0.07485751, -0.0018236524, -0.068592235, 0.004682709, 0.03700678, 0.024770502, -0.03823183, 0.08077992, -0.054057714, 0.02511746, -0.02283952, 0.022835558, 0.0034293444, 0.0022793494, 0.0071482263, 0.055954713, 0.018200599, -0.0437073, -0.009109037, 0.027785774, 0.033007335, -0.01002361, 0.057582904, 0.043174483, -0.04343225, -0.009878188, 0.08559771, -0.0653677, 0.023319844, -0.01599206, 0.033396523, -0.03737095, 0.0043491456, 0.04689475, 0.040573277, 0.06559679, 0.034198023, -0.014766518, 0.016467202, 0.0031175367, -0.066118635, 0.03569485, -0.041995306, -0.03196074, -0.02411515, 0.06345326, -0.016267806, -0.034405433, -0.0015788386, 0.0040282854, 0.03877429, 0.02264343, -0.088243134, 0.059601046, 0.026845688, 0.030228833, -0.017648494, -0.0025218497, -0.016514381, -0.051413834, -0.035310052, 0.026973763, -0.003472451, -0.031772926, -0.06540415, -0.012160481, -0.06833789, -0.0075715296, -0.00047030332, -0.008590927, 0.053900413, 0.023830092, 0.00810896, 0.014666587, -0.06607238, 0.02346744, -0.052210655, -0.055983, 0.09428677, -0.005875704, -0.032779023, 0.017961456, 0.021491455, 0.050312817, 0.015280251, -0.06432746, 0.01898209, 0.06492509, 0.059089478, -0.042306814, 0.015527287, -0.030122614, 0.001097062, 0.012477276, 0.09608564, 0.08359684, -0.014457818, -0.017288651, 0.0087567605, -0.026384551, 0.052013583, 0.001963205, -0.0039063455, -0.022911701, -0.0018663475, -0.05642059, 0.048202213, -0.0041655316, 0.05580883, -0.045661177, 0.014300482, -0.052671753, -0.004926059, 0.0023634683, 0.022934163, -0.056875978, -0.060785163, 0.035031393, 0.0356408, -0.044782024, -0.01866423, 0.06957375, 0.02993273, -0.008714129, 0.053499322, -0.0144008435, 0.0066049467, 0.026798274, -0.03740008, 0.04317701, 0.0076212077, 0.027044766, -0.014707174, 0.01644498, 0.0139259705, -0.025236476, -0.052014265, 0.0030883856, 0.032697577, 0.013288191, 0.02392642, -0.035923492, 0.027295869, -0.042208925, 0.02704454, 0.01356077, 0.008627161, -0.030347792, -0.020975996, -0.017764838, -0.030484209, 0.018024582, 0.0064233383, -0.021794524, -0.0018331642, 0.04413136, -0.020004114, -0.0020766717, -0.02270617, 0.079022415, 0.049983725, -0.0014020011, 0.058607988, -0.024129286, 0.008766478, 0.05965799, 0.016616484, -0.0027521371, -0.046814024, -0.009131343, -0.018952714, -0.025965173, 0.009112143, -0.010778133, -0.037304934, -0.037486244, 0.0016016468, -0.07074206, -0.009256389, -0.03848694, -0.020437919, -0.054074008, 0.019979332, -0.020006387, 0.014814804, 0.031691056, -0.03286425, -0.057686325, -0.018704094, 0.037335254, -0.013726712, -0.006294753, 0.020237612, 0.0093393475, -0.0034390355, 0.036577795, 0.008969459, -0.034181476, -0.010938907, 0.018004104, -0.012910437, 0.0059047905, 0.033413608, -0.0007495053, 0.0052894745, -0.027495017, -0.0026913784, 0.051100582, -0.055947702, -0.04272298, 0.031664755, -0.050206937, -0.0148573425, -0.023141328, 0.018534586, -0.009036844, -0.017531907, -0.019350845, -0.058224905, -0.05130723, 0.0029139426, 0.029279511, -0.08044488, 0.03153388, -0.07932346, -0.042909004, -0.05980019, -0.045720782, -0.018117137, -0.037349693, 0.035798088, -0.040079657, 0.007123701, -0.027137246, 0.00586103, -0.034414813, -0.05530286, 0.04895716, -0.025435347, 0.056353442, 0.04161232, -0.01458312, 0.05498734, 0.016515307, -0.0096916305, 0.016326375, -0.037013527, -0.024228154, -0.0012580042, -0.070515774, 0.041222785, 0.0016046871, 0.00011197514, 0.00236901, 0.017003495, 0.012650816, 0.03647153, 0.02988209, -0.011256212, -0.02525802, -0.034833845, 0.033342298, 0.03691751, -0.011631658, -0.0070770136, -0.010755331, -0.004264855, -0.037427295, 0.012646561, -0.03829528, 0.044818155, -0.012816438, 0.012282902, -0.035700552, -0.026390549, -0.064859, 0.026183926, 0.054144055, -0.05400606, 0.05080562, 0.011864119, -0.016267652, -0.003506718, 0.032302603, 0.045387365, 0.012387165, -0.0057593044, 0.025840959, -0.033022594, -0.008116682, 0.010460783, 0.004770175, -0.030344762, 0.032391693, -0.025393229, -0.080830745, 0.007180932, -0.004132426, -0.05144114, -0.013351632, 0.040026143, -0.013619276, 0.013051365, -0.0172552, 0.08651981, -0.038146444, -0.024108421, 0.023285301, -0.0024414773, 0.035066552, 0.0017967346, 0.046675142, -0.023541996, 0.039886814, 0.006371553, 0.04192607, 0.053224616, -0.010000981, -0.017226012, -0.006816832, -0.06337797, -0.010725045, -0.069798104, -0.0172242, -0.0051374584, 0.03787587, -0.067162685, 0.07082211, 0.039989177, 0.051445134, -0.026458027, 0.04092923, -0.013280378, 0.027239596, -0.031010587, -0.04490958, 0.0026563695, 0.070405334, 0.054742586, -0.022827955, -0.039511543, 0.037881475, 0.05408364, 0.042345066, 0.02368696, 0.023789752, 0.0017398727, 0.06032183, 0.0056140814, -0.048720263, 0.00989173, -0.013927612, -0.028087685, 0.049855974, 0.03499656, 0.037807543, 0.03247465, 0.03252532, 0.049483526, -0.00035351326, -0.0036113407, 0.03477073, -0.008511195, -0.036106568, 0.01578299, 0.0016571067, 0.0125768455, -0.030149966, -0.008421801, 0.026060611, -0.046950094, -0.05012355, -0.06040918, -0.017407818, -0.043857798, 0.0743238, 0.012851518, 0.03680723, 0.019376917, 0.014761514, -0.003744573, 0.009861956, 0.013348312, 0.0089889765, 0.014879601, 0.021871278, 0.010378896, -0.012356195, 0.055571143, 0.072664894, 0.031822808, 0.008091022, -0.015830062, -0.027421704, -0.020260494, 0.001181627, 0.021244459, 0.036041766, 0.0043921084, -0.010716938, -0.03363544, 0.017892824, 0.016747093, 0.088483095, 0.069207385, -0.0060227364, -0.002889764, -0.065568954, -0.015495116, -0.008646527, 0.03189697, 0.0370291, 0.010212409, -0.07281706, 0.023095222, 0.03137512, 0.020059573, -0.0009254837, 0.052671682, -0.011277743, -0.0652197, -0.0594681, -0.01799434, -0.05123294, 0.029455915, 0.00287111, 0.002141576, -0.017597653, 0.019222368, -0.028212931, -0.025806004, 0.03831009, -0.021827424, -0.07711449, -0.02160053, -0.0130471075, 0.014110203, 0.008950818, -0.00040844348, -0.103184216, -0.042037956, -0.055998165, 0.03245288, -0.09631644, 0.02533002, 0.030510636, 0.010518471, 0.04987565, 0.04104415, -0.027768897, 0.048751917, 0.041955948, -0.007913707, -0.014916163, 0.0042685154, -0.0011109257, -0.008795564, -0.01905117, 0.031092433, 0.07031726, -0.04004627, 0.035824973, -0.031219771, 0.043751515, 0.0056290156, 0.033299457, -0.0085603045, -0.00046424102, 0.020820916, -0.006556351, 0.035179112, -0.009634932, 0.061347112, -0.014702978, -0.037409883, -0.028421126, 0.03368505, -0.009600033, 0.02039764, 0.020306613, 0.011818353, 0.04752375, 0.07348071, -0.028763007, 0.004082001, -0.04122244, 0.032489337, -0.060530048, -0.019644909, -0.027203908, 0.027511219, -0.05946172, 0.10085508, -0.012723787, -0.0048464574, -0.0023897442, -0.023355538, 0.01453899, 0.025979714, -0.024511794, 0.048008233, 0.03454235, 0.00029611387, 0.07413869, -0.0054344614, -0.020419473, -0.012045397, -0.04865716, 0.078601405, -0.03951138, 0.061186045, 0.017699175, -0.06441784, -0.029318703, -0.0023161536, -0.007501695, 0.034367926, 0.016612066, -0.016389595, -0.012494277, 0.01509216, -0.003633332, -0.004498759, -0.019489253, 0.006033232, 0.0026791855, 0.033272732, 0.049040228, -0.05350281, 0.020213688, 0.011433072, 0.018260088, -0.010770757, -0.06396335, 0.025647089, 0.00041003432, 0.00352473, 0.024107749, 0.03423608, -0.043940157, 0.0284049]}\n"
          ]
        }
      ]
    },
    {
      "cell_type": "code",
      "source": [
        "DOCUMENT1 = {\n",
        "    \"Título\": \"Taroh\",\n",
        "    \"Conteúdo\": significado.text}\n",
        "\n",
        "documents = [DOCUMENT1]"
      ],
      "metadata": {
        "id": "TDtpCslSGjN-"
      },
      "execution_count": 155,
      "outputs": []
    },
    {
      "cell_type": "code",
      "source": [
        "df = pd.DataFrame(documents)\n",
        "df.columns = [\"Titulo\", \"Conteudo\"]\n",
        "df"
      ],
      "metadata": {
        "colab": {
          "base_uri": "https://localhost:8080/",
          "height": 89
        },
        "id": "PFtkEQ-aI5i2",
        "outputId": "56ad2139-803e-478d-c1a6-68d0843f839b"
      },
      "execution_count": 156,
      "outputs": [
        {
          "output_type": "execute_result",
          "data": {
            "text/plain": [
              "  Titulo                                   Conteudo\n",
              "0  Taroh  A carta 20 do Tarô é **O Julgamento**. \\n"
            ],
            "text/html": [
              "\n",
              "  <div id=\"df-fcc7ac07-03d2-46b9-b71e-97f6776c6ece\" class=\"colab-df-container\">\n",
              "    <div>\n",
              "<style scoped>\n",
              "    .dataframe tbody tr th:only-of-type {\n",
              "        vertical-align: middle;\n",
              "    }\n",
              "\n",
              "    .dataframe tbody tr th {\n",
              "        vertical-align: top;\n",
              "    }\n",
              "\n",
              "    .dataframe thead th {\n",
              "        text-align: right;\n",
              "    }\n",
              "</style>\n",
              "<table border=\"1\" class=\"dataframe\">\n",
              "  <thead>\n",
              "    <tr style=\"text-align: right;\">\n",
              "      <th></th>\n",
              "      <th>Titulo</th>\n",
              "      <th>Conteudo</th>\n",
              "    </tr>\n",
              "  </thead>\n",
              "  <tbody>\n",
              "    <tr>\n",
              "      <th>0</th>\n",
              "      <td>Taroh</td>\n",
              "      <td>A carta 20 do Tarô é **O Julgamento**. \\n</td>\n",
              "    </tr>\n",
              "  </tbody>\n",
              "</table>\n",
              "</div>\n",
              "    <div class=\"colab-df-buttons\">\n",
              "\n",
              "  <div class=\"colab-df-container\">\n",
              "    <button class=\"colab-df-convert\" onclick=\"convertToInteractive('df-fcc7ac07-03d2-46b9-b71e-97f6776c6ece')\"\n",
              "            title=\"Convert this dataframe to an interactive table.\"\n",
              "            style=\"display:none;\">\n",
              "\n",
              "  <svg xmlns=\"http://www.w3.org/2000/svg\" height=\"24px\" viewBox=\"0 -960 960 960\">\n",
              "    <path d=\"M120-120v-720h720v720H120Zm60-500h600v-160H180v160Zm220 220h160v-160H400v160Zm0 220h160v-160H400v160ZM180-400h160v-160H180v160Zm440 0h160v-160H620v160ZM180-180h160v-160H180v160Zm440 0h160v-160H620v160Z\"/>\n",
              "  </svg>\n",
              "    </button>\n",
              "\n",
              "  <style>\n",
              "    .colab-df-container {\n",
              "      display:flex;\n",
              "      gap: 12px;\n",
              "    }\n",
              "\n",
              "    .colab-df-convert {\n",
              "      background-color: #E8F0FE;\n",
              "      border: none;\n",
              "      border-radius: 50%;\n",
              "      cursor: pointer;\n",
              "      display: none;\n",
              "      fill: #1967D2;\n",
              "      height: 32px;\n",
              "      padding: 0 0 0 0;\n",
              "      width: 32px;\n",
              "    }\n",
              "\n",
              "    .colab-df-convert:hover {\n",
              "      background-color: #E2EBFA;\n",
              "      box-shadow: 0px 1px 2px rgba(60, 64, 67, 0.3), 0px 1px 3px 1px rgba(60, 64, 67, 0.15);\n",
              "      fill: #174EA6;\n",
              "    }\n",
              "\n",
              "    .colab-df-buttons div {\n",
              "      margin-bottom: 4px;\n",
              "    }\n",
              "\n",
              "    [theme=dark] .colab-df-convert {\n",
              "      background-color: #3B4455;\n",
              "      fill: #D2E3FC;\n",
              "    }\n",
              "\n",
              "    [theme=dark] .colab-df-convert:hover {\n",
              "      background-color: #434B5C;\n",
              "      box-shadow: 0px 1px 3px 1px rgba(0, 0, 0, 0.15);\n",
              "      filter: drop-shadow(0px 1px 2px rgba(0, 0, 0, 0.3));\n",
              "      fill: #FFFFFF;\n",
              "    }\n",
              "  </style>\n",
              "\n",
              "    <script>\n",
              "      const buttonEl =\n",
              "        document.querySelector('#df-fcc7ac07-03d2-46b9-b71e-97f6776c6ece button.colab-df-convert');\n",
              "      buttonEl.style.display =\n",
              "        google.colab.kernel.accessAllowed ? 'block' : 'none';\n",
              "\n",
              "      async function convertToInteractive(key) {\n",
              "        const element = document.querySelector('#df-fcc7ac07-03d2-46b9-b71e-97f6776c6ece');\n",
              "        const dataTable =\n",
              "          await google.colab.kernel.invokeFunction('convertToInteractive',\n",
              "                                                    [key], {});\n",
              "        if (!dataTable) return;\n",
              "\n",
              "        const docLinkHtml = 'Like what you see? Visit the ' +\n",
              "          '<a target=\"_blank\" href=https://colab.research.google.com/notebooks/data_table.ipynb>data table notebook</a>'\n",
              "          + ' to learn more about interactive tables.';\n",
              "        element.innerHTML = '';\n",
              "        dataTable['output_type'] = 'display_data';\n",
              "        await google.colab.output.renderOutput(dataTable, element);\n",
              "        const docLink = document.createElement('div');\n",
              "        docLink.innerHTML = docLinkHtml;\n",
              "        element.appendChild(docLink);\n",
              "      }\n",
              "    </script>\n",
              "  </div>\n",
              "\n",
              "\n",
              "  <div id=\"id_ecac2969-4aef-475a-aca4-c3f8bacc4adc\">\n",
              "    <style>\n",
              "      .colab-df-generate {\n",
              "        background-color: #E8F0FE;\n",
              "        border: none;\n",
              "        border-radius: 50%;\n",
              "        cursor: pointer;\n",
              "        display: none;\n",
              "        fill: #1967D2;\n",
              "        height: 32px;\n",
              "        padding: 0 0 0 0;\n",
              "        width: 32px;\n",
              "      }\n",
              "\n",
              "      .colab-df-generate:hover {\n",
              "        background-color: #E2EBFA;\n",
              "        box-shadow: 0px 1px 2px rgba(60, 64, 67, 0.3), 0px 1px 3px 1px rgba(60, 64, 67, 0.15);\n",
              "        fill: #174EA6;\n",
              "      }\n",
              "\n",
              "      [theme=dark] .colab-df-generate {\n",
              "        background-color: #3B4455;\n",
              "        fill: #D2E3FC;\n",
              "      }\n",
              "\n",
              "      [theme=dark] .colab-df-generate:hover {\n",
              "        background-color: #434B5C;\n",
              "        box-shadow: 0px 1px 3px 1px rgba(0, 0, 0, 0.15);\n",
              "        filter: drop-shadow(0px 1px 2px rgba(0, 0, 0, 0.3));\n",
              "        fill: #FFFFFF;\n",
              "      }\n",
              "    </style>\n",
              "    <button class=\"colab-df-generate\" onclick=\"generateWithVariable('df')\"\n",
              "            title=\"Generate code using this dataframe.\"\n",
              "            style=\"display:none;\">\n",
              "\n",
              "  <svg xmlns=\"http://www.w3.org/2000/svg\" height=\"24px\"viewBox=\"0 0 24 24\"\n",
              "       width=\"24px\">\n",
              "    <path d=\"M7,19H8.4L18.45,9,17,7.55,7,17.6ZM5,21V16.75L18.45,3.32a2,2,0,0,1,2.83,0l1.4,1.43a1.91,1.91,0,0,1,.58,1.4,1.91,1.91,0,0,1-.58,1.4L9.25,21ZM18.45,9,17,7.55Zm-12,3A5.31,5.31,0,0,0,4.9,8.1,5.31,5.31,0,0,0,1,6.5,5.31,5.31,0,0,0,4.9,4.9,5.31,5.31,0,0,0,6.5,1,5.31,5.31,0,0,0,8.1,4.9,5.31,5.31,0,0,0,12,6.5,5.46,5.46,0,0,0,6.5,12Z\"/>\n",
              "  </svg>\n",
              "    </button>\n",
              "    <script>\n",
              "      (() => {\n",
              "      const buttonEl =\n",
              "        document.querySelector('#id_ecac2969-4aef-475a-aca4-c3f8bacc4adc button.colab-df-generate');\n",
              "      buttonEl.style.display =\n",
              "        google.colab.kernel.accessAllowed ? 'block' : 'none';\n",
              "\n",
              "      buttonEl.onclick = () => {\n",
              "        google.colab.notebook.generateWithVariable('df');\n",
              "      }\n",
              "      })();\n",
              "    </script>\n",
              "  </div>\n",
              "\n",
              "    </div>\n",
              "  </div>\n"
            ],
            "application/vnd.google.colaboratory.intrinsic+json": {
              "type": "dataframe",
              "variable_name": "df",
              "summary": "{\n  \"name\": \"df\",\n  \"rows\": 1,\n  \"fields\": [\n    {\n      \"column\": \"Titulo\",\n      \"properties\": {\n        \"dtype\": \"string\",\n        \"num_unique_values\": 1,\n        \"samples\": [\n          \"Taroh\"\n        ],\n        \"semantic_type\": \"\",\n        \"description\": \"\"\n      }\n    },\n    {\n      \"column\": \"Conteudo\",\n      \"properties\": {\n        \"dtype\": \"string\",\n        \"num_unique_values\": 1,\n        \"samples\": [\n          \"A carta 20 do Tar\\u00f4 \\u00e9 **O Julgamento**. \\n\"\n        ],\n        \"semantic_type\": \"\",\n        \"description\": \"\"\n      }\n    }\n  ]\n}"
            }
          },
          "metadata": {},
          "execution_count": 156
        }
      ]
    },
    {
      "cell_type": "code",
      "source": [
        "model = \"models/embedding-001\""
      ],
      "metadata": {
        "id": "PGDTop0jJMGc"
      },
      "execution_count": 157,
      "outputs": []
    },
    {
      "cell_type": "code",
      "source": [
        "def embed_fn(title, text):\n",
        "  return genai.embed_content(model=model,\n",
        "                                 content=text,\n",
        "                                 title=title,\n",
        "                                 task_type=\"RETRIEVAL_DOCUMENT\")[\"embedding\"]"
      ],
      "metadata": {
        "id": "aslgxWV4JRv-"
      },
      "execution_count": 158,
      "outputs": []
    },
    {
      "cell_type": "code",
      "source": [
        "df[\"Embeddings\"] = df.apply(lambda row: embed_fn(row[\"Titulo\"], row[\"Conteudo\"]), axis=1)\n",
        "df"
      ],
      "metadata": {
        "colab": {
          "base_uri": "https://localhost:8080/",
          "height": 89
        },
        "id": "q8NROI7wJVpU",
        "outputId": "5257cb08-f182-442d-ffe9-f7ed7ca144d8"
      },
      "execution_count": 159,
      "outputs": [
        {
          "output_type": "execute_result",
          "data": {
            "text/plain": [
              "  Titulo                                   Conteudo  \\\n",
              "0  Taroh  A carta 20 do Tarô é **O Julgamento**. \\n   \n",
              "\n",
              "                                          Embeddings  \n",
              "0  [-0.0034917067, -0.057399236, -0.053332813, -0...  "
            ],
            "text/html": [
              "\n",
              "  <div id=\"df-140d6ef8-44fb-4a4e-9fea-7d9f668cbc3d\" class=\"colab-df-container\">\n",
              "    <div>\n",
              "<style scoped>\n",
              "    .dataframe tbody tr th:only-of-type {\n",
              "        vertical-align: middle;\n",
              "    }\n",
              "\n",
              "    .dataframe tbody tr th {\n",
              "        vertical-align: top;\n",
              "    }\n",
              "\n",
              "    .dataframe thead th {\n",
              "        text-align: right;\n",
              "    }\n",
              "</style>\n",
              "<table border=\"1\" class=\"dataframe\">\n",
              "  <thead>\n",
              "    <tr style=\"text-align: right;\">\n",
              "      <th></th>\n",
              "      <th>Titulo</th>\n",
              "      <th>Conteudo</th>\n",
              "      <th>Embeddings</th>\n",
              "    </tr>\n",
              "  </thead>\n",
              "  <tbody>\n",
              "    <tr>\n",
              "      <th>0</th>\n",
              "      <td>Taroh</td>\n",
              "      <td>A carta 20 do Tarô é **O Julgamento**. \\n</td>\n",
              "      <td>[-0.0034917067, -0.057399236, -0.053332813, -0...</td>\n",
              "    </tr>\n",
              "  </tbody>\n",
              "</table>\n",
              "</div>\n",
              "    <div class=\"colab-df-buttons\">\n",
              "\n",
              "  <div class=\"colab-df-container\">\n",
              "    <button class=\"colab-df-convert\" onclick=\"convertToInteractive('df-140d6ef8-44fb-4a4e-9fea-7d9f668cbc3d')\"\n",
              "            title=\"Convert this dataframe to an interactive table.\"\n",
              "            style=\"display:none;\">\n",
              "\n",
              "  <svg xmlns=\"http://www.w3.org/2000/svg\" height=\"24px\" viewBox=\"0 -960 960 960\">\n",
              "    <path d=\"M120-120v-720h720v720H120Zm60-500h600v-160H180v160Zm220 220h160v-160H400v160Zm0 220h160v-160H400v160ZM180-400h160v-160H180v160Zm440 0h160v-160H620v160ZM180-180h160v-160H180v160Zm440 0h160v-160H620v160Z\"/>\n",
              "  </svg>\n",
              "    </button>\n",
              "\n",
              "  <style>\n",
              "    .colab-df-container {\n",
              "      display:flex;\n",
              "      gap: 12px;\n",
              "    }\n",
              "\n",
              "    .colab-df-convert {\n",
              "      background-color: #E8F0FE;\n",
              "      border: none;\n",
              "      border-radius: 50%;\n",
              "      cursor: pointer;\n",
              "      display: none;\n",
              "      fill: #1967D2;\n",
              "      height: 32px;\n",
              "      padding: 0 0 0 0;\n",
              "      width: 32px;\n",
              "    }\n",
              "\n",
              "    .colab-df-convert:hover {\n",
              "      background-color: #E2EBFA;\n",
              "      box-shadow: 0px 1px 2px rgba(60, 64, 67, 0.3), 0px 1px 3px 1px rgba(60, 64, 67, 0.15);\n",
              "      fill: #174EA6;\n",
              "    }\n",
              "\n",
              "    .colab-df-buttons div {\n",
              "      margin-bottom: 4px;\n",
              "    }\n",
              "\n",
              "    [theme=dark] .colab-df-convert {\n",
              "      background-color: #3B4455;\n",
              "      fill: #D2E3FC;\n",
              "    }\n",
              "\n",
              "    [theme=dark] .colab-df-convert:hover {\n",
              "      background-color: #434B5C;\n",
              "      box-shadow: 0px 1px 3px 1px rgba(0, 0, 0, 0.15);\n",
              "      filter: drop-shadow(0px 1px 2px rgba(0, 0, 0, 0.3));\n",
              "      fill: #FFFFFF;\n",
              "    }\n",
              "  </style>\n",
              "\n",
              "    <script>\n",
              "      const buttonEl =\n",
              "        document.querySelector('#df-140d6ef8-44fb-4a4e-9fea-7d9f668cbc3d button.colab-df-convert');\n",
              "      buttonEl.style.display =\n",
              "        google.colab.kernel.accessAllowed ? 'block' : 'none';\n",
              "\n",
              "      async function convertToInteractive(key) {\n",
              "        const element = document.querySelector('#df-140d6ef8-44fb-4a4e-9fea-7d9f668cbc3d');\n",
              "        const dataTable =\n",
              "          await google.colab.kernel.invokeFunction('convertToInteractive',\n",
              "                                                    [key], {});\n",
              "        if (!dataTable) return;\n",
              "\n",
              "        const docLinkHtml = 'Like what you see? Visit the ' +\n",
              "          '<a target=\"_blank\" href=https://colab.research.google.com/notebooks/data_table.ipynb>data table notebook</a>'\n",
              "          + ' to learn more about interactive tables.';\n",
              "        element.innerHTML = '';\n",
              "        dataTable['output_type'] = 'display_data';\n",
              "        await google.colab.output.renderOutput(dataTable, element);\n",
              "        const docLink = document.createElement('div');\n",
              "        docLink.innerHTML = docLinkHtml;\n",
              "        element.appendChild(docLink);\n",
              "      }\n",
              "    </script>\n",
              "  </div>\n",
              "\n",
              "\n",
              "  <div id=\"id_5ee86b51-b54a-41f5-9230-1be3b496dbed\">\n",
              "    <style>\n",
              "      .colab-df-generate {\n",
              "        background-color: #E8F0FE;\n",
              "        border: none;\n",
              "        border-radius: 50%;\n",
              "        cursor: pointer;\n",
              "        display: none;\n",
              "        fill: #1967D2;\n",
              "        height: 32px;\n",
              "        padding: 0 0 0 0;\n",
              "        width: 32px;\n",
              "      }\n",
              "\n",
              "      .colab-df-generate:hover {\n",
              "        background-color: #E2EBFA;\n",
              "        box-shadow: 0px 1px 2px rgba(60, 64, 67, 0.3), 0px 1px 3px 1px rgba(60, 64, 67, 0.15);\n",
              "        fill: #174EA6;\n",
              "      }\n",
              "\n",
              "      [theme=dark] .colab-df-generate {\n",
              "        background-color: #3B4455;\n",
              "        fill: #D2E3FC;\n",
              "      }\n",
              "\n",
              "      [theme=dark] .colab-df-generate:hover {\n",
              "        background-color: #434B5C;\n",
              "        box-shadow: 0px 1px 3px 1px rgba(0, 0, 0, 0.15);\n",
              "        filter: drop-shadow(0px 1px 2px rgba(0, 0, 0, 0.3));\n",
              "        fill: #FFFFFF;\n",
              "      }\n",
              "    </style>\n",
              "    <button class=\"colab-df-generate\" onclick=\"generateWithVariable('df')\"\n",
              "            title=\"Generate code using this dataframe.\"\n",
              "            style=\"display:none;\">\n",
              "\n",
              "  <svg xmlns=\"http://www.w3.org/2000/svg\" height=\"24px\"viewBox=\"0 0 24 24\"\n",
              "       width=\"24px\">\n",
              "    <path d=\"M7,19H8.4L18.45,9,17,7.55,7,17.6ZM5,21V16.75L18.45,3.32a2,2,0,0,1,2.83,0l1.4,1.43a1.91,1.91,0,0,1,.58,1.4,1.91,1.91,0,0,1-.58,1.4L9.25,21ZM18.45,9,17,7.55Zm-12,3A5.31,5.31,0,0,0,4.9,8.1,5.31,5.31,0,0,0,1,6.5,5.31,5.31,0,0,0,4.9,4.9,5.31,5.31,0,0,0,6.5,1,5.31,5.31,0,0,0,8.1,4.9,5.31,5.31,0,0,0,12,6.5,5.46,5.46,0,0,0,6.5,12Z\"/>\n",
              "  </svg>\n",
              "    </button>\n",
              "    <script>\n",
              "      (() => {\n",
              "      const buttonEl =\n",
              "        document.querySelector('#id_5ee86b51-b54a-41f5-9230-1be3b496dbed button.colab-df-generate');\n",
              "      buttonEl.style.display =\n",
              "        google.colab.kernel.accessAllowed ? 'block' : 'none';\n",
              "\n",
              "      buttonEl.onclick = () => {\n",
              "        google.colab.notebook.generateWithVariable('df');\n",
              "      }\n",
              "      })();\n",
              "    </script>\n",
              "  </div>\n",
              "\n",
              "    </div>\n",
              "  </div>\n"
            ],
            "application/vnd.google.colaboratory.intrinsic+json": {
              "type": "dataframe",
              "variable_name": "df",
              "summary": "{\n  \"name\": \"df\",\n  \"rows\": 1,\n  \"fields\": [\n    {\n      \"column\": \"Titulo\",\n      \"properties\": {\n        \"dtype\": \"string\",\n        \"num_unique_values\": 1,\n        \"samples\": [\n          \"Taroh\"\n        ],\n        \"semantic_type\": \"\",\n        \"description\": \"\"\n      }\n    },\n    {\n      \"column\": \"Conteudo\",\n      \"properties\": {\n        \"dtype\": \"string\",\n        \"num_unique_values\": 1,\n        \"samples\": [\n          \"A carta 20 do Tar\\u00f4 \\u00e9 **O Julgamento**. \\n\"\n        ],\n        \"semantic_type\": \"\",\n        \"description\": \"\"\n      }\n    },\n    {\n      \"column\": \"Embeddings\",\n      \"properties\": {\n        \"dtype\": \"object\",\n        \"semantic_type\": \"\",\n        \"description\": \"\"\n      }\n    }\n  ]\n}"
            }
          },
          "metadata": {},
          "execution_count": 159
        }
      ]
    },
    {
      "cell_type": "code",
      "source": [
        "def gerar_e_buscar_consulta(consulta, base, model):\n",
        "  embedding_da_consulta = genai.embed_content(model=model,\n",
        "                                 content=consulta,\n",
        "                                 task_type=\"RETRIEVAL_QUERY\")[\"embedding\"]\n",
        "\n",
        "  produtos_escalares = np.dot(np.stack(df[\"Embeddings\"]), embedding_da_consulta)\n",
        "\n",
        "  indice = np.argmax(produtos_escalares)\n",
        "  return df.iloc[indice][\"Conteudo\"]"
      ],
      "metadata": {
        "id": "vl0m4od5JaZK"
      },
      "execution_count": 160,
      "outputs": []
    },
    {
      "cell_type": "code",
      "source": [
        "consulta = \"Resuma o siginificado\"\n",
        "\n",
        "trecho = gerar_e_buscar_consulta(consulta, df, model)\n",
        "print(trecho)"
      ],
      "metadata": {
        "colab": {
          "base_uri": "https://localhost:8080/",
          "height": 52
        },
        "id": "WZMaQVNdJewz",
        "outputId": "3cb9365b-bc23-4a43-c010-a26a536c3035"
      },
      "execution_count": 161,
      "outputs": [
        {
          "output_type": "stream",
          "name": "stdout",
          "text": [
            "A carta 20 do Tarô é **O Julgamento**. \n",
            "\n"
          ]
        }
      ]
    },
    {
      "cell_type": "code",
      "source": [
        "generation_config = {\n",
        "  \"temperature\": 0,\n",
        "  \"candidate_count\": 1\n",
        "}"
      ],
      "metadata": {
        "id": "gU_n3J3XJ_bC"
      },
      "execution_count": 165,
      "outputs": []
    },
    {
      "cell_type": "code",
      "source": [
        "prompt = f\"Resuma esse texto de uma forma mais descontraída, sem adicionar informações que não façam parte do texto: {trecho}\"\n",
        "\n",
        "model_2 = genai.GenerativeModel(\"gemini-1.0-pro\",\n",
        "                                generation_config=generation_config)\n",
        "response = model_2.generate_content(prompt)\n",
        "print(response.text)"
      ],
      "metadata": {
        "colab": {
          "base_uri": "https://localhost:8080/",
          "height": 158
        },
        "id": "cTjIrgMAKATY",
        "outputId": "5382bce8-1d63-495b-ddae-33e320310637"
      },
      "execution_count": 166,
      "outputs": [
        {
          "output_type": "stream",
          "name": "stdout",
          "text": [
            "**O Julgamento: A hora da verdade!**\n",
            "\n",
            "É hora de encarar a música, galera! A carta 20 do Tarô, \"O Julgamento\", tá aqui pra te dar um toque: é hora de dar uma olhada pra dentro e ver o que tá rolando.\n",
            "\n",
            "Não é um julgamento externo, tipo \"você é culpado!\", mas um momento de reflexão e autoavaliação. É como se o universo estivesse te dizendo: \"Bora, dá uma geral na sua vida e vê o que precisa ser ajustado.\"\n",
            "\n",
            "Então, prepare-se pra encarar seus medos, reconhecer seus erros e fazer as pazes com o passado. É hora de deixar pra trás o que não te serve mais e abraçar um novo capítulo com mais clareza e propósito.\n"
          ]
        }
      ]
    }
  ]
}