{
  "nbformat": 4,
  "nbformat_minor": 0,
  "metadata": {
    "colab": {
      "provenance": [],
      "authorship_tag": "ABX9TyMTj2FYJy5/oP0/uFFZ8YBO",
      "include_colab_link": true
    },
    "kernelspec": {
      "name": "python3",
      "display_name": "Python 3"
    },
    "language_info": {
      "name": "python"
    }
  },
  "cells": [
    {
      "cell_type": "markdown",
      "metadata": {
        "id": "view-in-github",
        "colab_type": "text"
      },
      "source": [
        "<a href=\"https://colab.research.google.com/github/juliowatanabe/Alura_Google_AI/blob/main/Alura_Google_AI_Taroh.ipynb\" target=\"_parent\"><img src=\"https://colab.research.google.com/assets/colab-badge.svg\" alt=\"Open In Colab\"/></a>"
      ]
    },
    {
      "cell_type": "markdown",
      "source": [
        "Este programa ..."
      ],
      "metadata": {
        "id": "Y0sDPu4h4MIn"
      }
    },
    {
      "cell_type": "code",
      "execution_count": 237,
      "metadata": {
        "id": "Whz5Sgey3sOm"
      },
      "outputs": [],
      "source": [
        "#Instalando o SDK do Google\n",
        "!pip install -q -U google-generativeai"
      ]
    },
    {
      "cell_type": "code",
      "source": [
        "# Configurações iniciais\n",
        "import google.generativeai as genai\n",
        "import numpy as np\n",
        "import pandas as pd\n",
        "import random\n",
        "# Importa o módulo userdata do google.colab para acessar o meu API_Key armazenado no Secrets\n",
        "from google.colab import userdata\n",
        "\n",
        "api_key = userdata.get(\"JKW_API_Key\")\n",
        "\n",
        "GOOGLE_API_KEY= api_key\n",
        "genai.configure(api_key=GOOGLE_API_KEY)"
      ],
      "metadata": {
        "id": "K7C-PNTe4tNk"
      },
      "execution_count": 213,
      "outputs": []
    },
    {
      "cell_type": "code",
      "source": [
        "# Listando os modelos disponíveis\n",
        "for m in genai.list_models():\n",
        "  if 'generateContent' in m.supported_generation_methods:\n",
        "    print(m.name)"
      ],
      "metadata": {
        "colab": {
          "base_uri": "https://localhost:8080/",
          "height": 138
        },
        "id": "QCoqcYuf8g24",
        "outputId": "e0c1aed5-72c0-40f8-b85c-3604b2c7ba3f"
      },
      "execution_count": 238,
      "outputs": [
        {
          "output_type": "stream",
          "name": "stdout",
          "text": [
            "models/gemini-1.0-pro\n",
            "models/gemini-1.0-pro-001\n",
            "models/gemini-1.0-pro-latest\n",
            "models/gemini-1.0-pro-vision-latest\n",
            "models/gemini-1.5-pro-latest\n",
            "models/gemini-pro\n",
            "models/gemini-pro-vision\n"
          ]
        }
      ]
    },
    {
      "cell_type": "code",
      "source": [
        "generation_config = {\n",
        "  \"candidate_count\": 1,\n",
        "  \"temperature\": 0.5,\n",
        "}"
      ],
      "metadata": {
        "id": "L-UaKKzu9oui"
      },
      "execution_count": 239,
      "outputs": []
    },
    {
      "cell_type": "code",
      "source": [
        "safety_settings={\n",
        "    'HATE': 'BLOCK_NONE',\n",
        "    'HARASSMENT': 'BLOCK_NONE',\n",
        "    'SEXUAL' : 'BLOCK_NONE',\n",
        "    'DANGEROUS' : 'BLOCK_NONE'\n",
        "    }"
      ],
      "metadata": {
        "id": "qqWQZgAW-PjV"
      },
      "execution_count": 240,
      "outputs": []
    },
    {
      "cell_type": "code",
      "source": [
        "model = genai.GenerativeModel(model_name='gemini-1.5-pro-latest',\n",
        "                                  generation_config=generation_config,\n",
        "                                  safety_settings=safety_settings,)"
      ],
      "metadata": {
        "id": "9XByz6__AVOK"
      },
      "execution_count": 241,
      "outputs": []
    },
    {
      "cell_type": "code",
      "source": [
        "carta = random.randint(1, 21)\n",
        "response = model.generate_content(f\"qual é a carta {carta} do Taroh.\")\n",
        "response.text"
      ],
      "metadata": {
        "colab": {
          "base_uri": "https://localhost:8080/",
          "height": 123
        },
        "id": "BnlG8unyCsxm",
        "outputId": "76093d9f-de54-43fc-d29e-cf1f3335f4ed"
      },
      "execution_count": 242,
      "outputs": [
        {
          "output_type": "execute_result",
          "data": {
            "text/plain": [
              "'## A Carta 16 do Tarô: A Torre\\n\\nA carta 16 do Tarô é **A Torre**. Ela é uma das cartas mais temidas e mal compreendidas do baralho, frequentemente associada a mudanças repentinas, caos e destruição. No entanto, é importante lembrar que a destruição que ela representa é muitas vezes necessária para o crescimento e a transformação.\\n\\n**Simbolismo da carta:**\\n\\n* **A torre:** Representa estruturas rígidas, crenças limitantes e falsas ilusões que precisam ser derrubadas para que possamos construir algo novo e melhor.\\n* **Raio:** Simboliza a força da mudança repentina e inesperada, uma intervenção divina ou um despertar espiritual.\\n* **Pessoas caindo:** Representam o ego e o apego a coisas materiais que são destruídas durante o processo de transformação.\\n* **Coroas caindo:** Simbolizam a perda de poder, status ou controle.\\n\\n**Interpretações da carta:**\\n\\n* **Mudança repentina e inesperada:** A Torre pode indicar uma reviravolta na vida, como uma perda de emprego, o fim de um relacionamento ou uma crise pessoal.\\n* **Destruição de ilusões:** A carta pode revelar verdades ocultas, quebrar crenças limitantes e nos forçar a confrontar a realidade.\\n* **Despertar espiritual:** A Torre pode representar um momento de profunda transformação interior, onde velhos padrões são quebrados e uma nova consciência emerge.\\n* **Liberação e renovação:** Apesar do caos inicial, a destruição da Torre abre caminho para a reconstrução e o crescimento.\\n\\n**A Torre em diferentes áreas da vida:**\\n\\n* **Amor:** Fim de um relacionamento, revelação de segredos, necessidade de reconstruir a confiança.\\n* **Trabalho:** Perda de emprego, mudança de carreira, desafios no ambiente de trabalho.\\n* **Finanças:** Perdas financeiras, necessidade de reavaliar investimentos.\\n* **Saúde:** Doenças repentinas, necessidade de mudar hábitos de vida.\\n* **Espiritualidade:** Despertar espiritual, quebra de velhos padrões, busca por um novo significado na vida.\\n\\n**Lembre-se:** A Torre não é uma carta de azar, mas sim um alerta para a necessidade de mudança e transformação. Embora o processo possa ser doloroso, ele é necessário para o crescimento e a evolução.\\n\\n**Dicas para lidar com a energia da Torre:**\\n\\n* **Aceite a mudança:** Resista à tentação de se apegar ao passado.\\n* **Seja flexível:** Esteja aberto a novas possibilidades e perspectivas.\\n* **Confie no processo:** Acredite que, mesmo no caos, existe uma ordem maior.\\n* **Reconstrua:** Use a energia da Torre para criar algo novo e melhor.\\n\\n**Espero que esta informação tenha sido útil!** \\n'"
            ],
            "application/vnd.google.colaboratory.intrinsic+json": {
              "type": "string"
            }
          },
          "metadata": {},
          "execution_count": 242
        }
      ]
    },
    {
      "cell_type": "code",
      "source": [
        "significado = model.generate_content(f'Consulte o significado da Carta do Taroh {response}')"
      ],
      "metadata": {
        "id": "SjMBVcCKDung"
      },
      "execution_count": 244,
      "outputs": []
    },
    {
      "cell_type": "code",
      "source": [
        "significado.text"
      ],
      "metadata": {
        "colab": {
          "base_uri": "https://localhost:8080/",
          "height": 123
        },
        "id": "63MP8ya2EdP7",
        "outputId": "4c4e7592-1a08-402a-f4b3-945453d26403"
      },
      "execution_count": 245,
      "outputs": [
        {
          "output_type": "execute_result",
          "data": {
            "text/plain": [
              "'A resposta do modelo de linguagem forneceu uma interpretação abrangente da carta da Torre no Tarô. Aqui estão os pontos principais:\\n\\n**Simbolismo:**\\n\\n* **Destruição:** A Torre representa a demolição de estruturas rígidas, crenças limitantes e falsas ilusões.\\n* **Mudança repentina:** O raio simboliza a natureza inesperada e poderosa da mudança, muitas vezes além do nosso controle.\\n* **Perda e Libertação:** As figuras caindo e as coroas representam a perda de apegos materiais, poder e controle, levando a uma eventual libertação.\\n\\n**Interpretações:**\\n\\n* **Reviravoltas:** A Torre prenuncia mudanças abruptas e inesperadas na vida, como o fim de um relacionamento, perda de emprego ou crises pessoais.\\n* **Verdades Reveladas:** A carta expõe verdades ocultas, forçando-nos a confrontar a realidade e abandonar ilusões.\\n* **Transformação:** A Torre sinaliza um despertar espiritual, onde velhos padrões são quebrados para dar lugar a uma nova consciência.\\n* **Renovação:** Apesar do caos inicial, a destruição abre caminho para reconstrução e crescimento.\\n\\n**Impacto em diferentes áreas da vida:**\\n\\n* **Amor:** Fim de relacionamentos, revelação de segredos, necessidade de reconstruir a confiança.\\n* **Trabalho:** Mudanças repentinas na carreira, perda de emprego, desafios no ambiente de trabalho.\\n* **Finanças:** Perdas financeiras, necessidade de reavaliar investimentos.\\n* **Saúde:** Doenças súbitas, necessidade de mudar hábitos de vida.\\n* **Espiritualidade:** Despertar espiritual, quebra de velhos padrões, busca por um novo significado na vida.\\n\\n**Lidando com a energia da Torre:**\\n\\n* **Aceitação:** Abrace a mudança em vez de resistir a ela.\\n* **Flexibilidade:** Esteja aberto a novas possibilidades e perspectivas.\\n* **Confiança:** Acredite que, mesmo no caos, existe uma ordem maior em ação.\\n* **Reconstrução:** Utilize a energia da Torre para criar algo novo e melhor.\\n\\n**Em resumo, a Torre não é uma carta de azar, mas um chamado para a transformação. Ela nos lembra que a mudança, embora muitas vezes dolorosa, é essencial para o crescimento e a evolução.** \\n'"
            ],
            "application/vnd.google.colaboratory.intrinsic+json": {
              "type": "string"
            }
          },
          "metadata": {},
          "execution_count": 245
        }
      ]
    },
    {
      "cell_type": "code",
      "source": [
        "for m in genai.list_models():\n",
        "  if 'embedContent' in m.supported_generation_methods:\n",
        "    print(m.name)"
      ],
      "metadata": {
        "colab": {
          "base_uri": "https://localhost:8080/",
          "height": 52
        },
        "id": "pLuCpx_4F_0b",
        "outputId": "b4bdf47d-b6e7-4c20-9a32-6031395353bf"
      },
      "execution_count": 246,
      "outputs": [
        {
          "output_type": "stream",
          "name": "stdout",
          "text": [
            "models/embedding-001\n",
            "models/text-embedding-004\n"
          ]
        }
      ]
    },
    {
      "cell_type": "code",
      "source": [
        "title = \"Taroh\"\n",
        "sample_text = significado.text\n",
        "\n",
        "embeddings = genai.embed_content(model=\"models/embedding-001\",\n",
        "                                 content=sample_text,\n",
        "                                 title=title,\n",
        "                                 task_type=\"RETRIEVAL_DOCUMENT\")\n",
        "\n",
        "#print(embeddings)"
      ],
      "metadata": {
        "id": "WaWM4bHQGVdP"
      },
      "execution_count": 247,
      "outputs": []
    },
    {
      "cell_type": "code",
      "source": [
        "DOCUMENT1 = {\n",
        "    \"Título\": \"Taroh\",\n",
        "    \"Conteúdo\": significado.text}\n",
        "\n",
        "documents = [DOCUMENT1]"
      ],
      "metadata": {
        "id": "TDtpCslSGjN-"
      },
      "execution_count": 248,
      "outputs": []
    },
    {
      "cell_type": "code",
      "source": [
        "df = pd.DataFrame(documents)\n",
        "df.columns = [\"Titulo\", \"Conteudo\"]\n",
        "df"
      ],
      "metadata": {
        "colab": {
          "base_uri": "https://localhost:8080/",
          "height": 89
        },
        "id": "PFtkEQ-aI5i2",
        "outputId": "435692a7-3057-4171-af90-71a342e3c3fc"
      },
      "execution_count": 249,
      "outputs": [
        {
          "output_type": "execute_result",
          "data": {
            "text/plain": [
              "  Titulo                                           Conteudo\n",
              "0  Taroh  A resposta do modelo de linguagem forneceu uma..."
            ],
            "text/html": [
              "\n",
              "  <div id=\"df-f0dd621a-0850-4c09-91c9-53df6ede592a\" class=\"colab-df-container\">\n",
              "    <div>\n",
              "<style scoped>\n",
              "    .dataframe tbody tr th:only-of-type {\n",
              "        vertical-align: middle;\n",
              "    }\n",
              "\n",
              "    .dataframe tbody tr th {\n",
              "        vertical-align: top;\n",
              "    }\n",
              "\n",
              "    .dataframe thead th {\n",
              "        text-align: right;\n",
              "    }\n",
              "</style>\n",
              "<table border=\"1\" class=\"dataframe\">\n",
              "  <thead>\n",
              "    <tr style=\"text-align: right;\">\n",
              "      <th></th>\n",
              "      <th>Titulo</th>\n",
              "      <th>Conteudo</th>\n",
              "    </tr>\n",
              "  </thead>\n",
              "  <tbody>\n",
              "    <tr>\n",
              "      <th>0</th>\n",
              "      <td>Taroh</td>\n",
              "      <td>A resposta do modelo de linguagem forneceu uma...</td>\n",
              "    </tr>\n",
              "  </tbody>\n",
              "</table>\n",
              "</div>\n",
              "    <div class=\"colab-df-buttons\">\n",
              "\n",
              "  <div class=\"colab-df-container\">\n",
              "    <button class=\"colab-df-convert\" onclick=\"convertToInteractive('df-f0dd621a-0850-4c09-91c9-53df6ede592a')\"\n",
              "            title=\"Convert this dataframe to an interactive table.\"\n",
              "            style=\"display:none;\">\n",
              "\n",
              "  <svg xmlns=\"http://www.w3.org/2000/svg\" height=\"24px\" viewBox=\"0 -960 960 960\">\n",
              "    <path d=\"M120-120v-720h720v720H120Zm60-500h600v-160H180v160Zm220 220h160v-160H400v160Zm0 220h160v-160H400v160ZM180-400h160v-160H180v160Zm440 0h160v-160H620v160ZM180-180h160v-160H180v160Zm440 0h160v-160H620v160Z\"/>\n",
              "  </svg>\n",
              "    </button>\n",
              "\n",
              "  <style>\n",
              "    .colab-df-container {\n",
              "      display:flex;\n",
              "      gap: 12px;\n",
              "    }\n",
              "\n",
              "    .colab-df-convert {\n",
              "      background-color: #E8F0FE;\n",
              "      border: none;\n",
              "      border-radius: 50%;\n",
              "      cursor: pointer;\n",
              "      display: none;\n",
              "      fill: #1967D2;\n",
              "      height: 32px;\n",
              "      padding: 0 0 0 0;\n",
              "      width: 32px;\n",
              "    }\n",
              "\n",
              "    .colab-df-convert:hover {\n",
              "      background-color: #E2EBFA;\n",
              "      box-shadow: 0px 1px 2px rgba(60, 64, 67, 0.3), 0px 1px 3px 1px rgba(60, 64, 67, 0.15);\n",
              "      fill: #174EA6;\n",
              "    }\n",
              "\n",
              "    .colab-df-buttons div {\n",
              "      margin-bottom: 4px;\n",
              "    }\n",
              "\n",
              "    [theme=dark] .colab-df-convert {\n",
              "      background-color: #3B4455;\n",
              "      fill: #D2E3FC;\n",
              "    }\n",
              "\n",
              "    [theme=dark] .colab-df-convert:hover {\n",
              "      background-color: #434B5C;\n",
              "      box-shadow: 0px 1px 3px 1px rgba(0, 0, 0, 0.15);\n",
              "      filter: drop-shadow(0px 1px 2px rgba(0, 0, 0, 0.3));\n",
              "      fill: #FFFFFF;\n",
              "    }\n",
              "  </style>\n",
              "\n",
              "    <script>\n",
              "      const buttonEl =\n",
              "        document.querySelector('#df-f0dd621a-0850-4c09-91c9-53df6ede592a button.colab-df-convert');\n",
              "      buttonEl.style.display =\n",
              "        google.colab.kernel.accessAllowed ? 'block' : 'none';\n",
              "\n",
              "      async function convertToInteractive(key) {\n",
              "        const element = document.querySelector('#df-f0dd621a-0850-4c09-91c9-53df6ede592a');\n",
              "        const dataTable =\n",
              "          await google.colab.kernel.invokeFunction('convertToInteractive',\n",
              "                                                    [key], {});\n",
              "        if (!dataTable) return;\n",
              "\n",
              "        const docLinkHtml = 'Like what you see? Visit the ' +\n",
              "          '<a target=\"_blank\" href=https://colab.research.google.com/notebooks/data_table.ipynb>data table notebook</a>'\n",
              "          + ' to learn more about interactive tables.';\n",
              "        element.innerHTML = '';\n",
              "        dataTable['output_type'] = 'display_data';\n",
              "        await google.colab.output.renderOutput(dataTable, element);\n",
              "        const docLink = document.createElement('div');\n",
              "        docLink.innerHTML = docLinkHtml;\n",
              "        element.appendChild(docLink);\n",
              "      }\n",
              "    </script>\n",
              "  </div>\n",
              "\n",
              "\n",
              "  <div id=\"id_a2d62fc3-8dda-4d85-b531-ca39b13939e7\">\n",
              "    <style>\n",
              "      .colab-df-generate {\n",
              "        background-color: #E8F0FE;\n",
              "        border: none;\n",
              "        border-radius: 50%;\n",
              "        cursor: pointer;\n",
              "        display: none;\n",
              "        fill: #1967D2;\n",
              "        height: 32px;\n",
              "        padding: 0 0 0 0;\n",
              "        width: 32px;\n",
              "      }\n",
              "\n",
              "      .colab-df-generate:hover {\n",
              "        background-color: #E2EBFA;\n",
              "        box-shadow: 0px 1px 2px rgba(60, 64, 67, 0.3), 0px 1px 3px 1px rgba(60, 64, 67, 0.15);\n",
              "        fill: #174EA6;\n",
              "      }\n",
              "\n",
              "      [theme=dark] .colab-df-generate {\n",
              "        background-color: #3B4455;\n",
              "        fill: #D2E3FC;\n",
              "      }\n",
              "\n",
              "      [theme=dark] .colab-df-generate:hover {\n",
              "        background-color: #434B5C;\n",
              "        box-shadow: 0px 1px 3px 1px rgba(0, 0, 0, 0.15);\n",
              "        filter: drop-shadow(0px 1px 2px rgba(0, 0, 0, 0.3));\n",
              "        fill: #FFFFFF;\n",
              "      }\n",
              "    </style>\n",
              "    <button class=\"colab-df-generate\" onclick=\"generateWithVariable('df')\"\n",
              "            title=\"Generate code using this dataframe.\"\n",
              "            style=\"display:none;\">\n",
              "\n",
              "  <svg xmlns=\"http://www.w3.org/2000/svg\" height=\"24px\"viewBox=\"0 0 24 24\"\n",
              "       width=\"24px\">\n",
              "    <path d=\"M7,19H8.4L18.45,9,17,7.55,7,17.6ZM5,21V16.75L18.45,3.32a2,2,0,0,1,2.83,0l1.4,1.43a1.91,1.91,0,0,1,.58,1.4,1.91,1.91,0,0,1-.58,1.4L9.25,21ZM18.45,9,17,7.55Zm-12,3A5.31,5.31,0,0,0,4.9,8.1,5.31,5.31,0,0,0,1,6.5,5.31,5.31,0,0,0,4.9,4.9,5.31,5.31,0,0,0,6.5,1,5.31,5.31,0,0,0,8.1,4.9,5.31,5.31,0,0,0,12,6.5,5.46,5.46,0,0,0,6.5,12Z\"/>\n",
              "  </svg>\n",
              "    </button>\n",
              "    <script>\n",
              "      (() => {\n",
              "      const buttonEl =\n",
              "        document.querySelector('#id_a2d62fc3-8dda-4d85-b531-ca39b13939e7 button.colab-df-generate');\n",
              "      buttonEl.style.display =\n",
              "        google.colab.kernel.accessAllowed ? 'block' : 'none';\n",
              "\n",
              "      buttonEl.onclick = () => {\n",
              "        google.colab.notebook.generateWithVariable('df');\n",
              "      }\n",
              "      })();\n",
              "    </script>\n",
              "  </div>\n",
              "\n",
              "    </div>\n",
              "  </div>\n"
            ],
            "application/vnd.google.colaboratory.intrinsic+json": {
              "type": "dataframe",
              "variable_name": "df",
              "summary": "{\n  \"name\": \"df\",\n  \"rows\": 1,\n  \"fields\": [\n    {\n      \"column\": \"Titulo\",\n      \"properties\": {\n        \"dtype\": \"string\",\n        \"num_unique_values\": 1,\n        \"samples\": [\n          \"Taroh\"\n        ],\n        \"semantic_type\": \"\",\n        \"description\": \"\"\n      }\n    },\n    {\n      \"column\": \"Conteudo\",\n      \"properties\": {\n        \"dtype\": \"string\",\n        \"num_unique_values\": 1,\n        \"samples\": [\n          \"A resposta do modelo de linguagem forneceu uma interpreta\\u00e7\\u00e3o abrangente da carta da Torre no Tar\\u00f4. Aqui est\\u00e3o os pontos principais:\\n\\n**Simbolismo:**\\n\\n* **Destrui\\u00e7\\u00e3o:** A Torre representa a demoli\\u00e7\\u00e3o de estruturas r\\u00edgidas, cren\\u00e7as limitantes e falsas ilus\\u00f5es.\\n* **Mudan\\u00e7a repentina:** O raio simboliza a natureza inesperada e poderosa da mudan\\u00e7a, muitas vezes al\\u00e9m do nosso controle.\\n* **Perda e Liberta\\u00e7\\u00e3o:** As figuras caindo e as coroas representam a perda de apegos materiais, poder e controle, levando a uma eventual liberta\\u00e7\\u00e3o.\\n\\n**Interpreta\\u00e7\\u00f5es:**\\n\\n* **Reviravoltas:** A Torre prenuncia mudan\\u00e7as abruptas e inesperadas na vida, como o fim de um relacionamento, perda de emprego ou crises pessoais.\\n* **Verdades Reveladas:** A carta exp\\u00f5e verdades ocultas, for\\u00e7ando-nos a confrontar a realidade e abandonar ilus\\u00f5es.\\n* **Transforma\\u00e7\\u00e3o:** A Torre sinaliza um despertar espiritual, onde velhos padr\\u00f5es s\\u00e3o quebrados para dar lugar a uma nova consci\\u00eancia.\\n* **Renova\\u00e7\\u00e3o:** Apesar do caos inicial, a destrui\\u00e7\\u00e3o abre caminho para reconstru\\u00e7\\u00e3o e crescimento.\\n\\n**Impacto em diferentes \\u00e1reas da vida:**\\n\\n* **Amor:** Fim de relacionamentos, revela\\u00e7\\u00e3o de segredos, necessidade de reconstruir a confian\\u00e7a.\\n* **Trabalho:** Mudan\\u00e7as repentinas na carreira, perda de emprego, desafios no ambiente de trabalho.\\n* **Finan\\u00e7as:** Perdas financeiras, necessidade de reavaliar investimentos.\\n* **Sa\\u00fade:** Doen\\u00e7as s\\u00fabitas, necessidade de mudar h\\u00e1bitos de vida.\\n* **Espiritualidade:** Despertar espiritual, quebra de velhos padr\\u00f5es, busca por um novo significado na vida.\\n\\n**Lidando com a energia da Torre:**\\n\\n* **Aceita\\u00e7\\u00e3o:** Abrace a mudan\\u00e7a em vez de resistir a ela.\\n* **Flexibilidade:** Esteja aberto a novas possibilidades e perspectivas.\\n* **Confian\\u00e7a:** Acredite que, mesmo no caos, existe uma ordem maior em a\\u00e7\\u00e3o.\\n* **Reconstru\\u00e7\\u00e3o:** Utilize a energia da Torre para criar algo novo e melhor.\\n\\n**Em resumo, a Torre n\\u00e3o \\u00e9 uma carta de azar, mas um chamado para a transforma\\u00e7\\u00e3o. Ela nos lembra que a mudan\\u00e7a, embora muitas vezes dolorosa, \\u00e9 essencial para o crescimento e a evolu\\u00e7\\u00e3o.** \\n\"\n        ],\n        \"semantic_type\": \"\",\n        \"description\": \"\"\n      }\n    }\n  ]\n}"
            }
          },
          "metadata": {},
          "execution_count": 249
        }
      ]
    },
    {
      "cell_type": "code",
      "source": [
        "model = \"models/embedding-001\""
      ],
      "metadata": {
        "id": "PGDTop0jJMGc"
      },
      "execution_count": 250,
      "outputs": []
    },
    {
      "cell_type": "code",
      "source": [
        "def embed_fn(title, text):\n",
        "  return genai.embed_content(model=model,\n",
        "                                 content=text,\n",
        "                                 title=title,\n",
        "                                 task_type=\"RETRIEVAL_DOCUMENT\")[\"embedding\"]"
      ],
      "metadata": {
        "id": "aslgxWV4JRv-"
      },
      "execution_count": 251,
      "outputs": []
    },
    {
      "cell_type": "code",
      "source": [
        "df[\"Embeddings\"] = df.apply(lambda row: embed_fn(row[\"Titulo\"], row[\"Conteudo\"]), axis=1)\n",
        "#df"
      ],
      "metadata": {
        "id": "q8NROI7wJVpU"
      },
      "execution_count": 252,
      "outputs": []
    },
    {
      "cell_type": "code",
      "source": [
        "def gerar_e_buscar_consulta(consulta, base, model):\n",
        "  embedding_da_consulta = genai.embed_content(model=model,\n",
        "                                 content=consulta,\n",
        "                                 task_type=\"RETRIEVAL_QUERY\")[\"embedding\"]\n",
        "\n",
        "  produtos_escalares = np.dot(np.stack(df[\"Embeddings\"]), embedding_da_consulta)\n",
        "\n",
        "  indice = np.argmax(produtos_escalares)\n",
        "  return df.iloc[indice][\"Conteudo\"]"
      ],
      "metadata": {
        "id": "vl0m4od5JaZK"
      },
      "execution_count": 253,
      "outputs": []
    },
    {
      "cell_type": "code",
      "source": [
        "consulta = \"qual é o siginificado\"\n",
        "\n",
        "trecho = gerar_e_buscar_consulta(consulta, df, model)\n",
        "print(trecho)"
      ],
      "metadata": {
        "colab": {
          "base_uri": "https://localhost:8080/",
          "height": 592
        },
        "id": "WZMaQVNdJewz",
        "outputId": "f0086550-f26a-482c-fffa-224387069ad7"
      },
      "execution_count": 254,
      "outputs": [
        {
          "output_type": "stream",
          "name": "stdout",
          "text": [
            "A resposta do modelo de linguagem forneceu uma interpretação abrangente da carta da Torre no Tarô. Aqui estão os pontos principais:\n",
            "\n",
            "**Simbolismo:**\n",
            "\n",
            "* **Destruição:** A Torre representa a demolição de estruturas rígidas, crenças limitantes e falsas ilusões.\n",
            "* **Mudança repentina:** O raio simboliza a natureza inesperada e poderosa da mudança, muitas vezes além do nosso controle.\n",
            "* **Perda e Libertação:** As figuras caindo e as coroas representam a perda de apegos materiais, poder e controle, levando a uma eventual libertação.\n",
            "\n",
            "**Interpretações:**\n",
            "\n",
            "* **Reviravoltas:** A Torre prenuncia mudanças abruptas e inesperadas na vida, como o fim de um relacionamento, perda de emprego ou crises pessoais.\n",
            "* **Verdades Reveladas:** A carta expõe verdades ocultas, forçando-nos a confrontar a realidade e abandonar ilusões.\n",
            "* **Transformação:** A Torre sinaliza um despertar espiritual, onde velhos padrões são quebrados para dar lugar a uma nova consciência.\n",
            "* **Renovação:** Apesar do caos inicial, a destruição abre caminho para reconstrução e crescimento.\n",
            "\n",
            "**Impacto em diferentes áreas da vida:**\n",
            "\n",
            "* **Amor:** Fim de relacionamentos, revelação de segredos, necessidade de reconstruir a confiança.\n",
            "* **Trabalho:** Mudanças repentinas na carreira, perda de emprego, desafios no ambiente de trabalho.\n",
            "* **Finanças:** Perdas financeiras, necessidade de reavaliar investimentos.\n",
            "* **Saúde:** Doenças súbitas, necessidade de mudar hábitos de vida.\n",
            "* **Espiritualidade:** Despertar espiritual, quebra de velhos padrões, busca por um novo significado na vida.\n",
            "\n",
            "**Lidando com a energia da Torre:**\n",
            "\n",
            "* **Aceitação:** Abrace a mudança em vez de resistir a ela.\n",
            "* **Flexibilidade:** Esteja aberto a novas possibilidades e perspectivas.\n",
            "* **Confiança:** Acredite que, mesmo no caos, existe uma ordem maior em ação.\n",
            "* **Reconstrução:** Utilize a energia da Torre para criar algo novo e melhor.\n",
            "\n",
            "**Em resumo, a Torre não é uma carta de azar, mas um chamado para a transformação. Ela nos lembra que a mudança, embora muitas vezes dolorosa, é essencial para o crescimento e a evolução.** \n",
            "\n"
          ]
        }
      ]
    },
    {
      "cell_type": "code",
      "source": [
        "generation_config = {\n",
        "  \"temperature\": 0,\n",
        "  \"candidate_count\": 1\n",
        "}"
      ],
      "metadata": {
        "id": "gU_n3J3XJ_bC"
      },
      "execution_count": 255,
      "outputs": []
    },
    {
      "cell_type": "code",
      "source": [
        "prompt = f\"Resuma esse texto de uma forma mais descontraída, sem adicionar informações que não façam parte do texto: {trecho}\"\n",
        "\n",
        "model_2 = genai.GenerativeModel(\"gemini-1.0-pro\",\n",
        "                                generation_config=generation_config)\n",
        "response = model_2.generate_content(prompt)\n",
        "print(response.text)"
      ],
      "metadata": {
        "colab": {
          "base_uri": "https://localhost:8080/",
          "height": 488
        },
        "id": "cTjIrgMAKATY",
        "outputId": "14439d93-eac5-4a71-a94b-fee4903187ec"
      },
      "execution_count": 256,
      "outputs": [
        {
          "output_type": "stream",
          "name": "stdout",
          "text": [
            "**A Torre: A Carta do \"Treme-Treme\" no Tarô**\n",
            "\n",
            "Imagina que você está numa torre alta, bem firme e segura. De repente, bum! Um raio cai e a torre desmorona. É assim que a carta da Torre no Tarô funciona.\n",
            "\n",
            "**O que ela significa?**\n",
            "\n",
            "* **Destruição:** Ela derruba tudo o que é velho e não serve mais, como crenças bobas e ilusões.\n",
            "* **Mudança doida:** É como um terremoto, que vem do nada e bagunça tudo.\n",
            "* **Perdas e liberdade:** Você pode perder coisas materiais ou poder, mas isso te liberta para coisas novas.\n",
            "\n",
            "**Como ela afeta sua vida:**\n",
            "\n",
            "* **Amor:** Pode acabar com relacionamentos ou revelar segredos.\n",
            "* **Trabalho:** Pode te fazer perder o emprego ou mudar de carreira.\n",
            "* **Dinheiro:** Pode te fazer perder grana ou te forçar a repensar seus investimentos.\n",
            "* **Saúde:** Pode trazer doenças repentinas ou te fazer mudar seus hábitos.\n",
            "* **Espiritualidade:** Pode te fazer acordar para a vida e te ajudar a encontrar um novo propósito.\n",
            "\n",
            "**Como lidar com ela:**\n",
            "\n",
            "* **Aceita:** Não lute contra a mudança, ela vai acontecer de qualquer jeito.\n",
            "* **Seja flexível:** Esteja aberto a novas ideias e possibilidades.\n",
            "* **Confia:** Mesmo no caos, tem uma ordem escondida.\n",
            "* **Reconstrói:** Use a energia da Torre para criar algo melhor do que antes.\n",
            "\n",
            "Lembre-se, a Torre não é uma carta ruim. É um lembrete de que a mudança, mesmo que seja assustadora, é necessária para o crescimento. Então, quando ela aparecer, não se desespere. Abrace a transformação e prepare-se para uma nova aventura!\n"
          ]
        }
      ]
    }
  ]
}